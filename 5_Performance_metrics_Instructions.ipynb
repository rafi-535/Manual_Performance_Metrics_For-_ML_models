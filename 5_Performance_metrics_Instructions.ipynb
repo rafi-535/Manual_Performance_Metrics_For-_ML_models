{
 "cells": [
  {
   "cell_type": "code",
   "execution_count": 9,
   "metadata": {
    "id": "s0Ej_bXyQvnV"
   },
   "outputs": [],
   "source": [
    "# Compute performance metrics for the given Y and Y_score without sklearn"
   ]
  },
  {
   "cell_type": "code",
   "execution_count": 1,
   "metadata": {
    "id": "4CHb6NE7Qvnc"
   },
   "outputs": [],
   "source": [
    "import numpy as np\n",
    "import pandas as pd\n",
    "# other than these two you should not import any other packages"
   ]
  },
  {
   "cell_type": "markdown",
   "metadata": {
    "id": "KbsWXuDaQvnq"
   },
   "source": [
    "\n",
    "## A. Compute performance metrics for the given data '5_a.csv'\n",
    " <pre>  <b>Note 1:</b> in this data you can see number of positive points >> number of negatives points\n",
    "   <b>Note 2:</b> use pandas or numpy to read the data from <b>5_a.csv</b>\n",
    "   <b>Note 3:</b> you need to derive the class labels from given score</pre> $y^{pred}= \\text{[0 if y_score < 0.5 else 1]}$\n",
    "\n",
    "<pre>\n",
    "<ol>\n",
    "<li> Compute Confusion Matrix </li>\n",
    "<li> Compute F1 Score </li>\n",
    "<li> Compute AUC Score, you need to compute different thresholds and for each threshold compute tpr,fpr and then use               numpy.trapz(tpr_array, fpr_array) <a href='https://stackoverflow.com/q/53603376/4084039'>https://stackoverflow.com/q/53603376/4084039</a>, <a href='https://stackoverflow.com/a/39678975/4084039'>https://stackoverflow.com/a/39678975/4084039</a> Note: it should be numpy.trapz(tpr_array, fpr_array) not numpy.trapz(fpr_array, tpr_array)\n",
    "Note- Make sure that you arrange your probability scores in descending order while calculating AUC</li>\n",
    "<li> Compute Accuracy Score </li>\n",
    "</ol>\n",
    "</pre>"
   ]
  },
  {
   "cell_type": "code",
   "execution_count": 42,
   "metadata": {
    "id": "WaFLW7oBQvnt"
   },
   "outputs": [
    {
     "data": {
      "text/plain": [
       "<bound method NDFrame.head of          y     proba\n",
       "0      1.0  0.637387\n",
       "1      1.0  0.635165\n",
       "2      1.0  0.766586\n",
       "3      1.0  0.724564\n",
       "4      1.0  0.889199\n",
       "...    ...       ...\n",
       "10095  1.0  0.665371\n",
       "10096  1.0  0.607961\n",
       "10097  1.0  0.777724\n",
       "10098  1.0  0.846036\n",
       "10099  1.0  0.679507\n",
       "\n",
       "[10100 rows x 2 columns]>"
      ]
     },
     "execution_count": 42,
     "metadata": {},
     "output_type": "execute_result"
    }
   ],
   "source": [
    "df_a=pd.read_csv('Metrics_Dataset/5_a.csv')\n",
    "df_a.head # getting data info"
   ]
  },
  {
   "cell_type": "code",
   "execution_count": 43,
   "metadata": {
    "id": "yg8uUJvGAfCM"
   },
   "outputs": [
    {
     "name": "stdout",
     "output_type": "stream",
     "text": [
      "Confusion matrix of above dataset is:\n",
      "[[    0     0]\n",
      " [  100 10000]]\n",
      "\n",
      "F1_Score of above dataset is:\n",
      "0.9950248756218906\n",
      "\n",
      "Accuracy of above dataset is:\n",
      "0.9900990099009901\n"
     ]
    }
   ],
   "source": [
    "import numpy as np\n",
    "import pandas as pd\n",
    "df_a=pd.read_csv('Metrics_Dataset/5_a.csv')\n",
    "df_a.head # getting data info\n",
    "df_a['y']=df_a['y'].apply(np.int64) # Converted float values of y column to int type:\n",
    "y_predicted = []\n",
    "for i in df_a['proba']:\n",
    "    if i<0.5:\n",
    "        y_predicted.append(0)\n",
    "    else:\n",
    "        y_predicted.append(1)\n",
    "df_a['y_predicted']=y_predicted #A new column namely y_predicted is added to an existing dataframe based on proba values..\n",
    "\n",
    "# 1.Compute Confusion Matrix,All the four elements of Confusion matrix is initialised and hence confusion matrix is created.\n",
    "\n",
    "TP = len(df_a[(df_a['y']==1) & (df_a['y_predicted']==1)])\n",
    "TN = len(df_a[(df_a['y']==0) & (df_a['y_predicted']==0)]) \n",
    "FN = len(df_a[(df_a['y']==1) & (df_a['y_predicted']==0)])\n",
    "FP = len(df_a[(df_a['y']==0) & (df_a['y_predicted']==1)])\n",
    "\n",
    "matrix = np.array([[TN,FN],[FP,TP]])\n",
    "print(\"Confusion matrix of above dataset is:\")\n",
    "print(matrix)\n",
    "\n",
    "# Using the elements of confusion matrix we can find other metrics such as precision,recall,F1 Score,Accuracy\n",
    "\n",
    "Precision = TP/(TP+FP)\n",
    "Recall = TP/(TP+FN)\n",
    "F1_Score = (2*Precision*Recall)/(Precision+Recall)\n",
    "print(\"\\nF1_Score of above dataset is:\")\n",
    "print(F1_Score)\n",
    "\n",
    "Accuracy = (TP+TN)/(TP+TN+FP+FN)# number of correctly predicted values is divided by total number of values\n",
    "print(\"\\nAccuracy of above dataset is:\")\n",
    "print(Accuracy)"
   ]
  },
  {
   "cell_type": "code",
   "execution_count": 44,
   "metadata": {},
   "outputs": [],
   "source": [
    "def tpr_fpr(df):\n",
    "    tp = len(df[(df['y']==1) & (df['y_predicted']==1)])\n",
    "    fp = len(df[(df['y']==0) & (df['y_predicted']==1)])\n",
    "    tn = len(df[(df['y']==0) & (df['y_predicted']==0)])\n",
    "    fn = len(df[(df['y']==1) & (df['y_predicted']==0)])\n",
    "    \n",
    "    tpr = tp/(tp+fn)\n",
    "    fpr = fp/(tn+fp)\n",
    "\n",
    "    return [tpr,fpr]"
   ]
  },
  {
   "cell_type": "markdown",
   "metadata": {},
   "source": [
    "## Defined  Functions to find True Positive Rate(tpr) and False Positive Rate(fpr),Hence to compute AUC_Score\n",
    "\n",
    "1.While computing AUC score you need to calculate \"TPR\",\"FPR\" at every threshold by using actual \"y\" and predicted \"y_predicted\".\n",
    "\n",
    "2.This function returns a list of tpr and fpr.\n",
    "\n",
    "3.Computed AUC Score,after computing different thresholds and for each threshold tpr,fpr are computed and then used              np.trapz(tpr_array, fpr_array) to determine area."
   ]
  },
  {
   "cell_type": "code",
   "execution_count": 39,
   "metadata": {},
   "outputs": [],
   "source": [
    "import tqdm\n",
    "def calculate_tpr_fpr(main_df):\n",
    "    tpr_thresholds = []\n",
    "    fpr_thresholds = []\n",
    "    \n",
    "    sorted_df = main_df.sort_values(by=['proba'],ascending=False) # Sorted dataframe in ascending order according to proba values\n",
    "    \n",
    "    lst = sorted_df['proba'] # Sorted column of df_a is stored in lst\n",
    "    \n",
    "    for threshold in tqdm(lst): #This loop iterates over the list lst and performs certain task for every value\n",
    "        sorted_df['y_predicted'] = np.where(sorted_df['proba'] >= threshold, 1, 0)\n",
    "        tpr_fpr_arr = tpr_fpr(sorted_df)\n",
    "        tpr_thresholds.append(tpr_fpr_arr[0])\n",
    "        fpr_thresholds.append(tpr_fpr_arr[1])\n",
    "\n",
    "    return tpr_thresholds,fpr_thresholds"
   ]
  },
  {
   "cell_type": "code",
   "execution_count": 45,
   "metadata": {},
   "outputs": [
    {
     "name": "stderr",
     "output_type": "stream",
     "text": [
      "100%|███████████████████████████████████████████████████████████████████████████| 10100/10100 [00:57<00:00, 177.11it/s]"
     ]
    },
    {
     "name": "stdout",
     "output_type": "stream",
     "text": [
      "\n",
      "AUC_Score for dataset df_a is: 0.48829900000000004\n"
     ]
    },
    {
     "name": "stderr",
     "output_type": "stream",
     "text": [
      "\n"
     ]
    }
   ],
   "source": [
    "from tqdm import tqdm\n",
    "tpr_array,fpr_array =calculate_tpr_fpr(df_a)\n",
    "AUC_Score_a = np.trapz(tpr_array,fpr_array)\n",
    "print(\"\\nAUC_Score for dataset df_a is:\",AUC_Score_a)"
   ]
  },
  {
   "cell_type": "code",
   "execution_count": 24,
   "metadata": {},
   "outputs": [
    {
     "data": {
      "image/png": "[encoded data removed]",
      "text/plain": [
       "<Figure size 432x288 with 1 Axes>"
      ]
     },
     "metadata": {
      "needs_background": "light"
     },
     "output_type": "display_data"
    }
   ],
   "source": [
    "import matplotlib.pyplot as plt\n",
    "plt.plot(fpr_array,tpr_array)\n",
    "plt.plot([0,1],[0,1])\n",
    "plt.xlabel(\"FPR\")\n",
    "plt.ylabel(\"TPR\")\n",
    "plt.title(\"AUC-ROC {0}\".format(round(AUC_Score_a,4)))\n",
    "plt.show()"
   ]
  },
  {
   "cell_type": "markdown",
   "metadata": {
    "id": "V5KZem1BQvn2"
   },
   "source": [
    "\n",
    "\n",
    "## B. Compute performance metrics for the given data '5_b.csv'\n",
    "<pre>\n",
    "   <b>Note 1:</b> in this data you can see number of positive points << number of negatives points\n",
    "   <b>Note 2:</b> use pandas or numpy to read the data from <b>5_b.csv</b>\n",
    "   <b>Note 3:</b> you need to derive the class labels from given score</pre> $y^{pred}= \\text{[0 if y_score < 0.5 else 1]}$\n",
    "\n",
    "<pre>\n",
    "<ol>\n",
    "<li> Compute Confusion Matrix </li>\n",
    "<li> Compute F1 Score </li>\n",
    "<li> Compute AUC Score, you need to compute different thresholds and for each threshold compute tpr,fpr and then use               numpy.trapz(tpr_array, fpr_array) <a href='https://stackoverflow.com/q/53603376/4084039'>https://stackoverflow.com/q/53603376/4084039</a>, <a href='https://stackoverflow.com/a/39678975/4084039'>https://stackoverflow.com/a/39678975/4084039</a>\n",
    "Note- Make sure that you arrange your probability scores in descending order while calculating AUC</li>\n",
    "<li> Compute Accuracy Score </li>\n",
    "</ol>\n",
    "</pre>"
   ]
  },
  {
   "cell_type": "code",
   "execution_count": 47,
   "metadata": {
    "id": "U2sKlq0YQvn5"
   },
   "outputs": [
    {
     "data": {
      "text/plain": [
       "<bound method NDFrame.head of          y     proba\n",
       "0      0.0  0.281035\n",
       "1      0.0  0.465152\n",
       "2      0.0  0.352793\n",
       "3      0.0  0.157818\n",
       "4      0.0  0.276648\n",
       "...    ...       ...\n",
       "10095  0.0  0.474401\n",
       "10096  0.0  0.128403\n",
       "10097  0.0  0.499331\n",
       "10098  0.0  0.157616\n",
       "10099  0.0  0.296618\n",
       "\n",
       "[10100 rows x 2 columns]>"
      ]
     },
     "execution_count": 47,
     "metadata": {},
     "output_type": "execute_result"
    }
   ],
   "source": [
    "df_b=pd.read_csv('Metrics_Dataset/5_b.csv')\n",
    "df_b.head"
   ]
  },
  {
   "cell_type": "code",
   "execution_count": 48,
   "metadata": {
    "id": "xlLVa-cVAfCS"
   },
   "outputs": [
    {
     "name": "stdout",
     "output_type": "stream",
     "text": [
      "Confusion matrix of above dataset:\n",
      "[[9761   45]\n",
      " [ 239   55]]\n",
      "\n",
      "F1_Score of above dataset is:\n",
      "0.2791878172588833\n",
      "\n",
      "Accuracy of above dataset is:\n",
      "0.9718811881188119\n"
     ]
    }
   ],
   "source": [
    "# write your code here for task B\n",
    "df_b['y']=df_b['y'].apply(np.int64)\n",
    "y_predict=[]\n",
    "for j in df_b['proba']:\n",
    "    if j<0.5:\n",
    "        y_predict.append(0)\n",
    "    else:\n",
    "        y_predict.append(1)\n",
    "\n",
    "df_b['y_predict']=y_predict\n",
    "\n",
    "# 1.Compute Confusion Matrix,All the four elements of Confusion matrix are initialised and hence confusion matrix is created.\n",
    "\n",
    "TP = len(df_b[(df_b['y']==1) & (df_b['y_predict']==1)])\n",
    "TN = len(df_b[(df_b['y']==0) & (df_b['y_predict']==0)])\n",
    "FP = len(df_b[(df_b['y']==0) & (df_b['y_predict']==1)])\n",
    "FN = len(df_b[(df_b['y']==1) & (df_b['y_predict']==0)])\n",
    "\n",
    "matrix = np.array([[TN,FN],[FP,TP]])\n",
    "print(\"Confusion matrix of above dataset:\")\n",
    "print(matrix)\n",
    "\n",
    "# 2.Compute F1 Score \n",
    "P = TP/(TP+FP)\n",
    "R = TP/(TP+FN)\n",
    "F1_Score = (2*P*R)/(P+R)\n",
    "print(\"\\nF1_Score of above dataset is:\")\n",
    "print(F1_Score) # F1 Score is calculated\n",
    "\n",
    "Accuracy = (TP+TN)/(TP+TN+FP+FN)# number of correctly predicted values is divided by total number of values\n",
    "print(\"\\nAccuracy of above dataset is:\")\n",
    "print(Accuracy)\n"
   ]
  },
  {
   "cell_type": "code",
   "execution_count": 49,
   "metadata": {},
   "outputs": [
    {
     "data": {
      "text/plain": [
       "y_predict\n",
       "0    9806\n",
       "1     294\n",
       "dtype: int64"
      ]
     },
     "execution_count": 49,
     "metadata": {},
     "output_type": "execute_result"
    }
   ],
   "source": [
    "df_b.value_counts(df_b['y_predict'])"
   ]
  },
  {
   "cell_type": "code",
   "execution_count": 50,
   "metadata": {},
   "outputs": [
    {
     "name": "stderr",
     "output_type": "stream",
     "text": [
      "100%|███████████████████████████████████████████████████████████████████████████| 10100/10100 [00:54<00:00, 184.29it/s]"
     ]
    },
    {
     "name": "stdout",
     "output_type": "stream",
     "text": [
      "\n",
      "AUC_Score of dataset df_b is: 0.9377570000000001\n"
     ]
    },
    {
     "name": "stderr",
     "output_type": "stream",
     "text": [
      "\n"
     ]
    }
   ],
   "source": [
    "# Using above defined functions AUC_Score of this dataset is determined\n",
    "from tqdm import tqdm\n",
    "tpr_array_b,fpr_array_b = calculate_tpr_fpr(df_b)\n",
    "AUC_Score_b = np.trapz(tpr_array_b,fpr_array_b) \n",
    "print(\"\\nAUC_Score of dataset df_b is:\",AUC_Score_b)"
   ]
  },
  {
   "cell_type": "code",
   "execution_count": 32,
   "metadata": {},
   "outputs": [
    {
     "data": {
      "image/png": "[encoded data removed]",
      "text/plain": [
       "<Figure size 432x288 with 1 Axes>"
      ]
     },
     "metadata": {
      "needs_background": "light"
     },
     "output_type": "display_data"
    }
   ],
   "source": [
    "import matplotlib.pyplot as plt\n",
    "plt.plot(fpr_array_b,tpr_array_b)\n",
    "plt.plot([0,1],[0,1])\n",
    "plt.xlabel(\"FPR\")\n",
    "plt.ylabel(\"TPR\")\n",
    "plt.title(\"AUC-ROC_b {0}\".format(round(AUC_Score_b,4)))\n",
    "plt.show()"
   ]
  },
  {
   "cell_type": "markdown",
   "metadata": {
    "id": "GiPGonTzQvoB"
   },
   "source": [
    "### C. Compute the best threshold (similarly to ROC curve computation) of probability which gives lowest values of metric <b>A</b> for the given data \n",
    "<br>\n",
    "\n",
    "you will be predicting label of a data points like this: $y^{pred}= \\text{[0 if y_score < threshold  else 1]}$\n",
    "\n",
    "$ A = 500 \\times \\text{number of false negative} + 100 \\times \\text{numebr of false positive}$\n",
    "\n",
    "<pre>\n",
    "   <b>Note 1:</b> in this data you can see number of negative points > number of positive points\n",
    "   <b>Note 2:</b> use pandas or numpy to read the data from <b>5_c.csv</b>\n",
    "</pre>"
   ]
  },
  {
   "cell_type": "code",
   "execution_count": 33,
   "metadata": {
    "id": "x5HIJzq1QvoE"
   },
   "outputs": [
    {
     "data": {
      "text/html": [
       "<div>\n",
       "<style scoped>\n",
       "    .dataframe tbody tr th:only-of-type {\n",
       "        vertical-align: middle;\n",
       "    }\n",
       "\n",
       "    .dataframe tbody tr th {\n",
       "        vertical-align: top;\n",
       "    }\n",
       "\n",
       "    .dataframe thead th {\n",
       "        text-align: right;\n",
       "    }\n",
       "</style>\n",
       "<table border=\"1\" class=\"dataframe\">\n",
       "  <thead>\n",
       "    <tr style=\"text-align: right;\">\n",
       "      <th></th>\n",
       "      <th>y</th>\n",
       "      <th>prob</th>\n",
       "    </tr>\n",
       "  </thead>\n",
       "  <tbody>\n",
       "    <tr>\n",
       "      <th>0</th>\n",
       "      <td>0</td>\n",
       "      <td>0.458521</td>\n",
       "    </tr>\n",
       "    <tr>\n",
       "      <th>1</th>\n",
       "      <td>0</td>\n",
       "      <td>0.505037</td>\n",
       "    </tr>\n",
       "    <tr>\n",
       "      <th>2</th>\n",
       "      <td>0</td>\n",
       "      <td>0.418652</td>\n",
       "    </tr>\n",
       "    <tr>\n",
       "      <th>3</th>\n",
       "      <td>0</td>\n",
       "      <td>0.412057</td>\n",
       "    </tr>\n",
       "    <tr>\n",
       "      <th>4</th>\n",
       "      <td>0</td>\n",
       "      <td>0.375579</td>\n",
       "    </tr>\n",
       "  </tbody>\n",
       "</table>\n",
       "</div>"
      ],
      "text/plain": [
       "   y      prob\n",
       "0  0  0.458521\n",
       "1  0  0.505037\n",
       "2  0  0.418652\n",
       "3  0  0.412057\n",
       "4  0  0.375579"
      ]
     },
     "execution_count": 33,
     "metadata": {},
     "output_type": "execute_result"
    }
   ],
   "source": [
    "df_c=pd.read_csv('Metrics_Dataset/5_c.csv')\n",
    "df_c.head()"
   ]
  },
  {
   "cell_type": "code",
   "execution_count": 50,
   "metadata": {
    "id": "eAPjewjzAfCa"
   },
   "outputs": [],
   "source": [
    "# write your code for task C\n",
    "y_actual = df_c.iloc[:,0].values #Convert pandas column into numpy ndarray using values attribute\n",
    "y_proba = df_c.iloc[:,1].values\n",
    "def Find_A(y,prob,threshold):\n",
    "    TP = 0\n",
    "    TN = 0\n",
    "    FP = 0\n",
    "    FN = 0\n",
    "    \n",
    "    min_of_A = np.inf # we set min_of_a to an positive infinite value\n",
    "    \n",
    "    for i in range(len(y_proba)):\n",
    "        if y_proba[i] >= threshold:\n",
    "            if y_actual[i]==1:\n",
    "                TP+=1\n",
    "            else:\n",
    "                FP+=1\n",
    "        if y_proba[i] < threshold:\n",
    "            if y_actual[i]==0:\n",
    "                TN+=1\n",
    "            else:\n",
    "                FN+=1\n",
    "    A = (500*FN) + (100*FP) \n",
    "    \n",
    "    return A    \n"
   ]
  },
  {
   "cell_type": "code",
   "execution_count": 66,
   "metadata": {},
   "outputs": [
    {
     "name": "stderr",
     "output_type": "stream",
     "text": [
      "100%|█████████████████████████████████████████████████████████████████████████████| 2791/2791 [00:04<00:00, 592.50it/s]"
     ]
    },
    {
     "name": "stdout",
     "output_type": "stream",
     "text": [
      "(141000, 0.2300390278970873)\n",
      "\n",
      "The lowest value of metric A of dataset df_c and the minimal threshold probability value is printed\n"
     ]
    },
    {
     "name": "stderr",
     "output_type": "stream",
     "text": [
      "\n"
     ]
    }
   ],
   "source": [
    "from tqdm import tqdm\n",
    "def Find_min_A(y,prob,threshold_arr):\n",
    "    min_of_a = np.inf\n",
    "    min_of_t = 0\n",
    "    \n",
    "    for threshold in tqdm(threshold_arr):\n",
    "        a = Find_A(y_actual,y_proba,threshold)\n",
    "        if a<= min_of_a:\n",
    "            min_of_a = min(a,min_of_a)\n",
    "            min_of_t = threshold\n",
    "    return min_of_a,min_of_t\n",
    "\n",
    "print(Find_min_A(y_actual,y_proba,np.unique(df_c['prob'])))\n",
    "print(\"\\nThe lowest value of metric A of dataset df_c and the minimal threshold probability value is printed\")"
   ]
  },
  {
   "cell_type": "markdown",
   "metadata": {
    "id": "sD4CcgjXQvoL"
   },
   "source": [
    "\n",
    "## D.</b></font> Compute performance metrics(for regression) for the given data 5_d.csv\n",
    "<pre>    <b>Note 2:</b> use pandas or numpy to read the data from <b>5_d.csv</b>\n",
    "    <b>Note 1:</b> <b>5_d.csv</b> will having two columns Y and predicted_Y both are real valued features\n",
    "<ol>\n",
    "<li> Compute Mean Square Error </li>\n",
    "<li> Compute MAPE: https://www.youtube.com/watch?v=ly6ztgIkUxk</li>\n",
    "<li> Compute R^2 error: https://en.wikipedia.org/wiki/Coefficient_of_determination#Definitions </li>\n",
    "</ol>\n",
    "</pre>"
   ]
  },
  {
   "cell_type": "code",
   "execution_count": 3,
   "metadata": {
    "id": "sVOj-bF9AfCd"
   },
   "outputs": [
    {
     "data": {
      "text/html": [
       "<div>\n",
       "<style scoped>\n",
       "    .dataframe tbody tr th:only-of-type {\n",
       "        vertical-align: middle;\n",
       "    }\n",
       "\n",
       "    .dataframe tbody tr th {\n",
       "        vertical-align: top;\n",
       "    }\n",
       "\n",
       "    .dataframe thead th {\n",
       "        text-align: right;\n",
       "    }\n",
       "</style>\n",
       "<table border=\"1\" class=\"dataframe\">\n",
       "  <thead>\n",
       "    <tr style=\"text-align: right;\">\n",
       "      <th></th>\n",
       "      <th>y</th>\n",
       "      <th>pred</th>\n",
       "    </tr>\n",
       "  </thead>\n",
       "  <tbody>\n",
       "    <tr>\n",
       "      <th>0</th>\n",
       "      <td>101.0</td>\n",
       "      <td>100.0</td>\n",
       "    </tr>\n",
       "    <tr>\n",
       "      <th>1</th>\n",
       "      <td>120.0</td>\n",
       "      <td>100.0</td>\n",
       "    </tr>\n",
       "    <tr>\n",
       "      <th>2</th>\n",
       "      <td>131.0</td>\n",
       "      <td>113.0</td>\n",
       "    </tr>\n",
       "    <tr>\n",
       "      <th>3</th>\n",
       "      <td>164.0</td>\n",
       "      <td>125.0</td>\n",
       "    </tr>\n",
       "    <tr>\n",
       "      <th>4</th>\n",
       "      <td>154.0</td>\n",
       "      <td>152.0</td>\n",
       "    </tr>\n",
       "  </tbody>\n",
       "</table>\n",
       "</div>"
      ],
      "text/plain": [
       "       y   pred\n",
       "0  101.0  100.0\n",
       "1  120.0  100.0\n",
       "2  131.0  113.0\n",
       "3  164.0  125.0\n",
       "4  154.0  152.0"
      ]
     },
     "execution_count": 3,
     "metadata": {},
     "output_type": "execute_result"
    }
   ],
   "source": [
    "df_d=pd.read_csv('Metrics_Dataset/5_d.csv')\n",
    "df_d.head()"
   ]
  },
  {
   "cell_type": "code",
   "execution_count": 36,
   "metadata": {
    "id": "uRhL1pheAfCe"
   },
   "outputs": [
    {
     "name": "stdout",
     "output_type": "stream",
     "text": [
      "Mean Squared Error of dataset df_d is:  177.16569974554707\n"
     ]
    }
   ],
   "source": [
    " # write your code for task 5d\n",
    "y_actual = df_d['y'].values # Converted dataframe column to numpy ndarray\n",
    "y_pred = df_d['pred'].values\n",
    "MSE = np.mean((y_actual-y_pred)**2) \n",
    "print(\"Mean Squared Error of dataset df_d is:  {0}\".format(MSE))\n"
   ]
  },
  {
   "cell_type": "code",
   "execution_count": 34,
   "metadata": {},
   "outputs": [
    {
     "name": "stdout",
     "output_type": "stream",
     "text": [
      "R2 or Coefficient of determination of dataset df_d is:   0.9563582786990937\n"
     ]
    }
   ],
   "source": [
    "def R2():\n",
    "    y_mean = np.mean(y_actual)\n",
    "    SST = np.mean((y_actual-y_mean)**2)\n",
    "\n",
    "    R2 = 1-(MSE/SST)\n",
    "\n",
    "    print(\"R2 or Coefficient of determination of dataset df_d is:  \",R2)\n",
    "R2()"
   ]
  },
  {
   "cell_type": "code",
   "execution_count": 33,
   "metadata": {},
   "outputs": [
    {
     "name": "stdout",
     "output_type": "stream",
     "text": [
      "Modified Mean Absolute Percentage Error of dataset df_d is:  0.1291202994009687\n"
     ]
    }
   ],
   "source": [
    "def modified_MAPE():\n",
    "    error = np.abs(y_actual-y_pred)\n",
    "    MAPE = np.sum(error)/np.sum(y_actual)\n",
    "    print(\"Modified Mean Absolute Percentage Error of dataset df_d is: \",MAPE)\n",
    "modified_MAPE()"
   ]
  },
  {
   "cell_type": "code",
   "execution_count": null,
   "metadata": {},
   "outputs": [],
   "source": []
  }
 ],
 "metadata": {
  "colab": {
   "collapsed_sections": [],
   "name": "5_Performance_metrics_Instructions.ipynb",
   "provenance": []
  },
  "kernelspec": {
   "display_name": "Python 3",
   "language": "python",
   "name": "python3"
  },
  "language_info": {
   "codemirror_mode": {
    "name": "ipython",
    "version": 3
   },
   "file_extension": ".py",
   "mimetype": "text/x-python",
   "name": "python",
   "nbconvert_exporter": "python",
   "pygments_lexer": "ipython3",
   "version": "3.8.8"
  }
 },
 "nbformat": 4,
 "nbformat_minor": 1
}
